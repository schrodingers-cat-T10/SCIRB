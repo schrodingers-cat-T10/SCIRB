{
 "cells": [
  {
   "cell_type": "code",
   "execution_count": 1,
   "id": "eee08c1f",
   "metadata": {
    "execution": {
     "iopub.execute_input": "2025-01-25T11:22:29.159701Z",
     "iopub.status.busy": "2025-01-25T11:22:29.159350Z",
     "iopub.status.idle": "2025-01-25T11:22:43.973829Z",
     "shell.execute_reply": "2025-01-25T11:22:43.973071Z"
    },
    "papermill": {
     "duration": 14.825162,
     "end_time": "2025-01-25T11:22:43.975462",
     "exception": false,
     "start_time": "2025-01-25T11:22:29.150300",
     "status": "completed"
    },
    "tags": []
   },
   "outputs": [],
   "source": [
    "import pandas as pd\n",
    "import numpy as np\n",
    "from sklearn.model_selection import train_test_split\n",
    "from tensorflow.keras.layers import LSTM,Dense,Conv2D,Flatten,MaxPooling2D\n",
    "from tensorflow.keras.models import Sequential \n",
    "import pandas as pd\n",
    "from sklearn.preprocessing import MinMaxScaler\n",
    "from sklearn.model_selection import train_test_split\n",
    "from sklearn.metrics import mean_squared_error, mean_absolute_error\n",
    "import tensorflow as tf\n",
    "from tensorflow.keras.models import Sequential\n",
    "from tensorflow.keras.layers import LSTM, Dense, Dropout\n",
    "from tensorflow.keras.callbacks import EarlyStopping"
   ]
  },
  {
   "cell_type": "code",
   "execution_count": 2,
   "id": "b25df7ef",
   "metadata": {
    "execution": {
     "iopub.execute_input": "2025-01-25T11:22:43.989628Z",
     "iopub.status.busy": "2025-01-25T11:22:43.989161Z",
     "iopub.status.idle": "2025-01-25T11:22:44.624618Z",
     "shell.execute_reply": "2025-01-25T11:22:44.623862Z"
    },
    "papermill": {
     "duration": 0.643798,
     "end_time": "2025-01-25T11:22:44.626119",
     "exception": false,
     "start_time": "2025-01-25T11:22:43.982321",
     "status": "completed"
    },
    "tags": []
   },
   "outputs": [],
   "source": [
    "data=pd.read_csv(\"/kaggle/input/capital-dataset/Capital_Project_Detail_Data_-_Dollars_20250125.csv\")"
   ]
  },
  {
   "cell_type": "code",
   "execution_count": 3,
   "id": "590293c7",
   "metadata": {
    "execution": {
     "iopub.execute_input": "2025-01-25T11:22:44.639709Z",
     "iopub.status.busy": "2025-01-25T11:22:44.639391Z",
     "iopub.status.idle": "2025-01-25T11:22:44.687640Z",
     "shell.execute_reply": "2025-01-25T11:22:44.686759Z"
    },
    "papermill": {
     "duration": 0.056624,
     "end_time": "2025-01-25T11:22:44.689253",
     "exception": false,
     "start_time": "2025-01-25T11:22:44.632629",
     "status": "completed"
    },
    "tags": []
   },
   "outputs": [],
   "source": [
    "# Set all non-NaN values in DELAY_DESC to 1\n",
    "data[\"DELAY_DESC\"] = data[\"DELAY_DESC\"].apply(lambda x: \"delay\" if pd.notnull(x) else x)"
   ]
  },
  {
   "cell_type": "code",
   "execution_count": 4,
   "id": "2c3bbb4c",
   "metadata": {
    "execution": {
     "iopub.execute_input": "2025-01-25T11:22:44.703424Z",
     "iopub.status.busy": "2025-01-25T11:22:44.703138Z",
     "iopub.status.idle": "2025-01-25T11:22:44.718681Z",
     "shell.execute_reply": "2025-01-25T11:22:44.717836Z"
    },
    "papermill": {
     "duration": 0.024089,
     "end_time": "2025-01-25T11:22:44.720145",
     "exception": false,
     "start_time": "2025-01-25T11:22:44.696056",
     "status": "completed"
    },
    "tags": []
   },
   "outputs": [
    {
     "data": {
      "text/plain": [
       "DELAY_DESC\n",
       "delay    43719\n",
       "Name: count, dtype: int64"
      ]
     },
     "execution_count": 4,
     "metadata": {},
     "output_type": "execute_result"
    }
   ],
   "source": [
    "data[\"DELAY_DESC\"].value_counts()"
   ]
  },
  {
   "cell_type": "code",
   "execution_count": 5,
   "id": "452b9a0e",
   "metadata": {
    "execution": {
     "iopub.execute_input": "2025-01-25T11:22:44.734551Z",
     "iopub.status.busy": "2025-01-25T11:22:44.734253Z",
     "iopub.status.idle": "2025-01-25T11:22:44.747890Z",
     "shell.execute_reply": "2025-01-25T11:22:44.746835Z"
    },
    "papermill": {
     "duration": 0.022381,
     "end_time": "2025-01-25T11:22:44.749365",
     "exception": false,
     "start_time": "2025-01-25T11:22:44.726984",
     "status": "completed"
    },
    "tags": []
   },
   "outputs": [
    {
     "name": "stderr",
     "output_type": "stream",
     "text": [
      "<ipython-input-5-5105570d60f9>:2: FutureWarning: A value is trying to be set on a copy of a DataFrame or Series through chained assignment using an inplace method.\n",
      "The behavior will change in pandas 3.0. This inplace method will never work because the intermediate object on which we are setting values always behaves as a copy.\n",
      "\n",
      "For example, when doing 'df[col].method(value, inplace=True)', try using 'df.method({col: value}, inplace=True)' or df[col] = df[col].method(value) instead, to perform the operation inplace on the original object.\n",
      "\n",
      "\n",
      "  data[\"DELAY_DESC\"].fillna(\"No Delay\", inplace=True)\n"
     ]
    }
   ],
   "source": [
    "data[\"DELAY_DESC\"].isnull().sum()\n",
    "data[\"DELAY_DESC\"].fillna(\"No Delay\", inplace=True)"
   ]
  },
  {
   "cell_type": "code",
   "execution_count": 6,
   "id": "6770a9dc",
   "metadata": {
    "execution": {
     "iopub.execute_input": "2025-01-25T11:22:44.763216Z",
     "iopub.status.busy": "2025-01-25T11:22:44.762942Z",
     "iopub.status.idle": "2025-01-25T11:22:44.796144Z",
     "shell.execute_reply": "2025-01-25T11:22:44.795206Z"
    },
    "papermill": {
     "duration": 0.041763,
     "end_time": "2025-01-25T11:22:44.797692",
     "exception": false,
     "start_time": "2025-01-25T11:22:44.755929",
     "status": "completed"
    },
    "tags": []
   },
   "outputs": [
    {
     "data": {
      "text/html": [
       "<div>\n",
       "<style scoped>\n",
       "    .dataframe tbody tr th:only-of-type {\n",
       "        vertical-align: middle;\n",
       "    }\n",
       "\n",
       "    .dataframe tbody tr th {\n",
       "        vertical-align: top;\n",
       "    }\n",
       "\n",
       "    .dataframe thead th {\n",
       "        text-align: right;\n",
       "    }\n",
       "</style>\n",
       "<table border=\"1\" class=\"dataframe\">\n",
       "  <thead>\n",
       "    <tr style=\"text-align: right;\">\n",
       "      <th></th>\n",
       "      <th>PUB_DATE</th>\n",
       "      <th>BORO</th>\n",
       "      <th>MANAGING_AGCY_CD</th>\n",
       "      <th>MANAGING_AGCY</th>\n",
       "      <th>PROJECT_ID</th>\n",
       "      <th>PROJECT_DESCR</th>\n",
       "      <th>TYP_CATEGORY_NAME</th>\n",
       "      <th>COMMUNITY_BOARD</th>\n",
       "      <th>BUDGET_LINE</th>\n",
       "      <th>DELAY_DESC</th>\n",
       "      <th>...</th>\n",
       "      <th>CITY_RTC</th>\n",
       "      <th>CITY_PLAN_TOTAL</th>\n",
       "      <th>NONCITY_PRIOR_ACTUAL</th>\n",
       "      <th>NONCITY_YR1_PLAN</th>\n",
       "      <th>NONCITY_YR2_PLAN</th>\n",
       "      <th>NONCITY_YR3_PLAN</th>\n",
       "      <th>NONCITY_YR4_PLAN</th>\n",
       "      <th>NONCITY_YR5_PLAN</th>\n",
       "      <th>NONCITY_RTC</th>\n",
       "      <th>NONCITY_PLAN_TOTAL</th>\n",
       "    </tr>\n",
       "  </thead>\n",
       "  <tbody>\n",
       "    <tr>\n",
       "      <th>0</th>\n",
       "      <td>20200116</td>\n",
       "      <td>CITYWIDE</td>\n",
       "      <td>42</td>\n",
       "      <td>CITY UNIVERSITY</td>\n",
       "      <td>CA207-006</td>\n",
       "      <td>CUNY Incubator Network</td>\n",
       "      <td>MISCELLANEOUS RECONSTRUCTION</td>\n",
       "      <td>0</td>\n",
       "      <td>HN-0206</td>\n",
       "      <td>delay</td>\n",
       "      <td>...</td>\n",
       "      <td>0</td>\n",
       "      <td>7160.0</td>\n",
       "      <td>0.0</td>\n",
       "      <td>0</td>\n",
       "      <td>0</td>\n",
       "      <td>0</td>\n",
       "      <td>0</td>\n",
       "      <td>0</td>\n",
       "      <td>0</td>\n",
       "      <td>0.0</td>\n",
       "    </tr>\n",
       "    <tr>\n",
       "      <th>1</th>\n",
       "      <td>20200116</td>\n",
       "      <td>CITYWIDE</td>\n",
       "      <td>56</td>\n",
       "      <td>POLICE DEPARTMENT</td>\n",
       "      <td>PO79-ADA</td>\n",
       "      <td>ADA COMPLIANCE RENOVATIONS AT NYPD PRECINCTS</td>\n",
       "      <td>POLICE FACILITIES</td>\n",
       "      <td>0</td>\n",
       "      <td>PO-0079</td>\n",
       "      <td>No Delay</td>\n",
       "      <td>...</td>\n",
       "      <td>0</td>\n",
       "      <td>29337.0</td>\n",
       "      <td>0.0</td>\n",
       "      <td>0</td>\n",
       "      <td>0</td>\n",
       "      <td>0</td>\n",
       "      <td>0</td>\n",
       "      <td>0</td>\n",
       "      <td>0</td>\n",
       "      <td>0.0</td>\n",
       "    </tr>\n",
       "    <tr>\n",
       "      <th>2</th>\n",
       "      <td>20200116</td>\n",
       "      <td>CITYWIDE</td>\n",
       "      <td>56</td>\n",
       "      <td>POLICE DEPARTMENT</td>\n",
       "      <td>PO79BATH</td>\n",
       "      <td>CITYWIDE BATHROOM RENOVATION</td>\n",
       "      <td>POLICE FACILITIES</td>\n",
       "      <td>0</td>\n",
       "      <td>PO-0079</td>\n",
       "      <td>delay</td>\n",
       "      <td>...</td>\n",
       "      <td>0</td>\n",
       "      <td>37118.0</td>\n",
       "      <td>0.0</td>\n",
       "      <td>0</td>\n",
       "      <td>0</td>\n",
       "      <td>0</td>\n",
       "      <td>0</td>\n",
       "      <td>0</td>\n",
       "      <td>0</td>\n",
       "      <td>0.0</td>\n",
       "    </tr>\n",
       "    <tr>\n",
       "      <th>3</th>\n",
       "      <td>20200116</td>\n",
       "      <td>CITYWIDE</td>\n",
       "      <td>56</td>\n",
       "      <td>POLICE DEPARTMENT</td>\n",
       "      <td>PO79BMAHD</td>\n",
       "      <td>BATHROOM RENO AT 67TH, 77TH AND TRAFFIC CONTRO...</td>\n",
       "      <td>POLICE FACILITIES</td>\n",
       "      <td>0</td>\n",
       "      <td>PO-0079</td>\n",
       "      <td>delay</td>\n",
       "      <td>...</td>\n",
       "      <td>0</td>\n",
       "      <td>1407.0</td>\n",
       "      <td>0.0</td>\n",
       "      <td>0</td>\n",
       "      <td>0</td>\n",
       "      <td>0</td>\n",
       "      <td>0</td>\n",
       "      <td>0</td>\n",
       "      <td>0</td>\n",
       "      <td>0.0</td>\n",
       "    </tr>\n",
       "    <tr>\n",
       "      <th>4</th>\n",
       "      <td>20200116</td>\n",
       "      <td>CITYWIDE</td>\n",
       "      <td>56</td>\n",
       "      <td>POLICE DEPARTMENT</td>\n",
       "      <td>PO79BMAHG</td>\n",
       "      <td>ELEVATOR REHABILITATION FOR 20TH, 25TH</td>\n",
       "      <td>POLICE FACILITIES</td>\n",
       "      <td>0</td>\n",
       "      <td>PO-0079</td>\n",
       "      <td>delay</td>\n",
       "      <td>...</td>\n",
       "      <td>0</td>\n",
       "      <td>2500.0</td>\n",
       "      <td>0.0</td>\n",
       "      <td>0</td>\n",
       "      <td>0</td>\n",
       "      <td>0</td>\n",
       "      <td>0</td>\n",
       "      <td>0</td>\n",
       "      <td>0</td>\n",
       "      <td>0.0</td>\n",
       "    </tr>\n",
       "    <tr>\n",
       "      <th>5</th>\n",
       "      <td>20200116</td>\n",
       "      <td>CITYWIDE</td>\n",
       "      <td>56</td>\n",
       "      <td>POLICE DEPARTMENT</td>\n",
       "      <td>PO79BMAHI</td>\n",
       "      <td>BOILER REPLACEMENT AT 68TH, 76TH AND 102ND PCTS</td>\n",
       "      <td>POLICE FACILITIES</td>\n",
       "      <td>0</td>\n",
       "      <td>PO-0079</td>\n",
       "      <td>delay</td>\n",
       "      <td>...</td>\n",
       "      <td>0</td>\n",
       "      <td>2430.0</td>\n",
       "      <td>0.0</td>\n",
       "      <td>0</td>\n",
       "      <td>0</td>\n",
       "      <td>0</td>\n",
       "      <td>0</td>\n",
       "      <td>0</td>\n",
       "      <td>0</td>\n",
       "      <td>0.0</td>\n",
       "    </tr>\n",
       "    <tr>\n",
       "      <th>6</th>\n",
       "      <td>20200116</td>\n",
       "      <td>CITYWIDE</td>\n",
       "      <td>56</td>\n",
       "      <td>POLICE DEPARTMENT</td>\n",
       "      <td>PO79BMAHY</td>\n",
       "      <td>BOILERS AT 26TH, 42ND &amp; 46TH PRECINCTS</td>\n",
       "      <td>POLICE FACILITIES</td>\n",
       "      <td>0</td>\n",
       "      <td>PO-0079</td>\n",
       "      <td>delay</td>\n",
       "      <td>...</td>\n",
       "      <td>0</td>\n",
       "      <td>1258.0</td>\n",
       "      <td>0.0</td>\n",
       "      <td>0</td>\n",
       "      <td>0</td>\n",
       "      <td>0</td>\n",
       "      <td>0</td>\n",
       "      <td>0</td>\n",
       "      <td>0</td>\n",
       "      <td>0.0</td>\n",
       "    </tr>\n",
       "    <tr>\n",
       "      <th>7</th>\n",
       "      <td>20200116</td>\n",
       "      <td>CITYWIDE</td>\n",
       "      <td>56</td>\n",
       "      <td>POLICE DEPARTMENT</td>\n",
       "      <td>PO79BMAJZ</td>\n",
       "      <td>49TH &amp; 115TH &amp; MTN PCT HVAC REPLACEMENT</td>\n",
       "      <td>POLICE FACILITIES</td>\n",
       "      <td>0</td>\n",
       "      <td>PO-0079</td>\n",
       "      <td>No Delay</td>\n",
       "      <td>...</td>\n",
       "      <td>0</td>\n",
       "      <td>2372.0</td>\n",
       "      <td>0.0</td>\n",
       "      <td>0</td>\n",
       "      <td>0</td>\n",
       "      <td>0</td>\n",
       "      <td>0</td>\n",
       "      <td>0</td>\n",
       "      <td>0</td>\n",
       "      <td>0.0</td>\n",
       "    </tr>\n",
       "    <tr>\n",
       "      <th>8</th>\n",
       "      <td>20200116</td>\n",
       "      <td>CITYWIDE</td>\n",
       "      <td>56</td>\n",
       "      <td>POLICE DEPARTMENT</td>\n",
       "      <td>PO79BMAKF</td>\n",
       "      <td>CAC BATHROOM RENOVATION</td>\n",
       "      <td>POLICE FACILITIES</td>\n",
       "      <td>0</td>\n",
       "      <td>PO-0079</td>\n",
       "      <td>No Delay</td>\n",
       "      <td>...</td>\n",
       "      <td>0</td>\n",
       "      <td>487.0</td>\n",
       "      <td>0.0</td>\n",
       "      <td>0</td>\n",
       "      <td>0</td>\n",
       "      <td>0</td>\n",
       "      <td>0</td>\n",
       "      <td>0</td>\n",
       "      <td>0</td>\n",
       "      <td>0.0</td>\n",
       "    </tr>\n",
       "    <tr>\n",
       "      <th>9</th>\n",
       "      <td>20200116</td>\n",
       "      <td>CITYWIDE</td>\n",
       "      <td>56</td>\n",
       "      <td>POLICE DEPARTMENT</td>\n",
       "      <td>PO79BMAKI</td>\n",
       "      <td>BOILERS AT MTS, HWY 3, 75 &amp; 77 PRECINCTS</td>\n",
       "      <td>POLICE FACILITIES</td>\n",
       "      <td>0</td>\n",
       "      <td>PO-0079</td>\n",
       "      <td>No Delay</td>\n",
       "      <td>...</td>\n",
       "      <td>0</td>\n",
       "      <td>3268.0</td>\n",
       "      <td>0.0</td>\n",
       "      <td>0</td>\n",
       "      <td>0</td>\n",
       "      <td>0</td>\n",
       "      <td>0</td>\n",
       "      <td>0</td>\n",
       "      <td>0</td>\n",
       "      <td>0.0</td>\n",
       "    </tr>\n",
       "  </tbody>\n",
       "</table>\n",
       "<p>10 rows × 30 columns</p>\n",
       "</div>"
      ],
      "text/plain": [
       "   PUB_DATE      BORO  MANAGING_AGCY_CD      MANAGING_AGCY PROJECT_ID  \\\n",
       "0  20200116  CITYWIDE                42    CITY UNIVERSITY  CA207-006   \n",
       "1  20200116  CITYWIDE                56  POLICE DEPARTMENT   PO79-ADA   \n",
       "2  20200116  CITYWIDE                56  POLICE DEPARTMENT   PO79BATH   \n",
       "3  20200116  CITYWIDE                56  POLICE DEPARTMENT  PO79BMAHD   \n",
       "4  20200116  CITYWIDE                56  POLICE DEPARTMENT  PO79BMAHG   \n",
       "5  20200116  CITYWIDE                56  POLICE DEPARTMENT  PO79BMAHI   \n",
       "6  20200116  CITYWIDE                56  POLICE DEPARTMENT  PO79BMAHY   \n",
       "7  20200116  CITYWIDE                56  POLICE DEPARTMENT  PO79BMAJZ   \n",
       "8  20200116  CITYWIDE                56  POLICE DEPARTMENT  PO79BMAKF   \n",
       "9  20200116  CITYWIDE                56  POLICE DEPARTMENT  PO79BMAKI   \n",
       "\n",
       "                                       PROJECT_DESCR  \\\n",
       "0                             CUNY Incubator Network   \n",
       "1       ADA COMPLIANCE RENOVATIONS AT NYPD PRECINCTS   \n",
       "2                       CITYWIDE BATHROOM RENOVATION   \n",
       "3  BATHROOM RENO AT 67TH, 77TH AND TRAFFIC CONTRO...   \n",
       "4             ELEVATOR REHABILITATION FOR 20TH, 25TH   \n",
       "5    BOILER REPLACEMENT AT 68TH, 76TH AND 102ND PCTS   \n",
       "6             BOILERS AT 26TH, 42ND & 46TH PRECINCTS   \n",
       "7            49TH & 115TH & MTN PCT HVAC REPLACEMENT   \n",
       "8                            CAC BATHROOM RENOVATION   \n",
       "9           BOILERS AT MTS, HWY 3, 75 & 77 PRECINCTS   \n",
       "\n",
       "              TYP_CATEGORY_NAME COMMUNITY_BOARD BUDGET_LINE DELAY_DESC  ...  \\\n",
       "0  MISCELLANEOUS RECONSTRUCTION               0     HN-0206      delay  ...   \n",
       "1             POLICE FACILITIES               0     PO-0079   No Delay  ...   \n",
       "2             POLICE FACILITIES               0     PO-0079      delay  ...   \n",
       "3             POLICE FACILITIES               0     PO-0079      delay  ...   \n",
       "4             POLICE FACILITIES               0     PO-0079      delay  ...   \n",
       "5             POLICE FACILITIES               0     PO-0079      delay  ...   \n",
       "6             POLICE FACILITIES               0     PO-0079      delay  ...   \n",
       "7             POLICE FACILITIES               0     PO-0079   No Delay  ...   \n",
       "8             POLICE FACILITIES               0     PO-0079   No Delay  ...   \n",
       "9             POLICE FACILITIES               0     PO-0079   No Delay  ...   \n",
       "\n",
       "  CITY_RTC CITY_PLAN_TOTAL  NONCITY_PRIOR_ACTUAL  NONCITY_YR1_PLAN  \\\n",
       "0        0          7160.0                   0.0                 0   \n",
       "1        0         29337.0                   0.0                 0   \n",
       "2        0         37118.0                   0.0                 0   \n",
       "3        0          1407.0                   0.0                 0   \n",
       "4        0          2500.0                   0.0                 0   \n",
       "5        0          2430.0                   0.0                 0   \n",
       "6        0          1258.0                   0.0                 0   \n",
       "7        0          2372.0                   0.0                 0   \n",
       "8        0           487.0                   0.0                 0   \n",
       "9        0          3268.0                   0.0                 0   \n",
       "\n",
       "   NONCITY_YR2_PLAN  NONCITY_YR3_PLAN  NONCITY_YR4_PLAN  NONCITY_YR5_PLAN  \\\n",
       "0                 0                 0                 0                 0   \n",
       "1                 0                 0                 0                 0   \n",
       "2                 0                 0                 0                 0   \n",
       "3                 0                 0                 0                 0   \n",
       "4                 0                 0                 0                 0   \n",
       "5                 0                 0                 0                 0   \n",
       "6                 0                 0                 0                 0   \n",
       "7                 0                 0                 0                 0   \n",
       "8                 0                 0                 0                 0   \n",
       "9                 0                 0                 0                 0   \n",
       "\n",
       "   NONCITY_RTC  NONCITY_PLAN_TOTAL  \n",
       "0            0                 0.0  \n",
       "1            0                 0.0  \n",
       "2            0                 0.0  \n",
       "3            0                 0.0  \n",
       "4            0                 0.0  \n",
       "5            0                 0.0  \n",
       "6            0                 0.0  \n",
       "7            0                 0.0  \n",
       "8            0                 0.0  \n",
       "9            0                 0.0  \n",
       "\n",
       "[10 rows x 30 columns]"
      ]
     },
     "execution_count": 6,
     "metadata": {},
     "output_type": "execute_result"
    }
   ],
   "source": [
    "data.head(10)"
   ]
  },
  {
   "cell_type": "code",
   "execution_count": 7,
   "id": "e8e2ff7b",
   "metadata": {
    "execution": {
     "iopub.execute_input": "2025-01-25T11:22:44.813006Z",
     "iopub.status.busy": "2025-01-25T11:22:44.812676Z",
     "iopub.status.idle": "2025-01-25T11:22:44.817558Z",
     "shell.execute_reply": "2025-01-25T11:22:44.816821Z"
    },
    "papermill": {
     "duration": 0.013834,
     "end_time": "2025-01-25T11:22:44.818739",
     "exception": false,
     "start_time": "2025-01-25T11:22:44.804905",
     "status": "completed"
    },
    "tags": []
   },
   "outputs": [
    {
     "data": {
      "text/plain": [
       "Index(['PUB_DATE', 'BORO', 'MANAGING_AGCY_CD', 'MANAGING_AGCY', 'PROJECT_ID',\n",
       "       'PROJECT_DESCR', 'TYP_CATEGORY_NAME', 'COMMUNITY_BOARD', 'BUDGET_LINE',\n",
       "       'DELAY_DESC', 'SITE_DESCR', 'SCOPE_TEXT', 'FY_YR1_PLAN', 'ORIG_BUD_AMT',\n",
       "       'CITY_PRIOR_ACTUAL', 'CITY_YR1_PLAN', 'CITY_YR2_PLAN', 'CITY_YR3_PLAN',\n",
       "       'CITY_YR4_PLAN', 'CITY_YR5_PLAN', 'CITY_RTC', 'CITY_PLAN_TOTAL',\n",
       "       'NONCITY_PRIOR_ACTUAL', 'NONCITY_YR1_PLAN', 'NONCITY_YR2_PLAN',\n",
       "       'NONCITY_YR3_PLAN', 'NONCITY_YR4_PLAN', 'NONCITY_YR5_PLAN',\n",
       "       'NONCITY_RTC', 'NONCITY_PLAN_TOTAL'],\n",
       "      dtype='object')"
      ]
     },
     "execution_count": 7,
     "metadata": {},
     "output_type": "execute_result"
    }
   ],
   "source": [
    "data.columns"
   ]
  },
  {
   "cell_type": "code",
   "execution_count": 8,
   "id": "1703adc5",
   "metadata": {
    "execution": {
     "iopub.execute_input": "2025-01-25T11:22:44.834126Z",
     "iopub.status.busy": "2025-01-25T11:22:44.833847Z",
     "iopub.status.idle": "2025-01-25T11:22:44.844216Z",
     "shell.execute_reply": "2025-01-25T11:22:44.843477Z"
    },
    "papermill": {
     "duration": 0.019562,
     "end_time": "2025-01-25T11:22:44.845498",
     "exception": false,
     "start_time": "2025-01-25T11:22:44.825936",
     "status": "completed"
    },
    "tags": []
   },
   "outputs": [],
   "source": [
    "data=data.drop(\"SCOPE_TEXT\",axis=1)"
   ]
  },
  {
   "cell_type": "code",
   "execution_count": 9,
   "id": "14fbcdec",
   "metadata": {
    "execution": {
     "iopub.execute_input": "2025-01-25T11:22:44.859993Z",
     "iopub.status.busy": "2025-01-25T11:22:44.859706Z",
     "iopub.status.idle": "2025-01-25T11:22:44.903610Z",
     "shell.execute_reply": "2025-01-25T11:22:44.902824Z"
    },
    "papermill": {
     "duration": 0.05266,
     "end_time": "2025-01-25T11:22:44.905067",
     "exception": false,
     "start_time": "2025-01-25T11:22:44.852407",
     "status": "completed"
    },
    "tags": []
   },
   "outputs": [
    {
     "data": {
      "text/plain": [
       "PUB_DATE                 0\n",
       "BORO                     0\n",
       "MANAGING_AGCY_CD         0\n",
       "MANAGING_AGCY            0\n",
       "PROJECT_ID               0\n",
       "PROJECT_DESCR            0\n",
       "TYP_CATEGORY_NAME        0\n",
       "COMMUNITY_BOARD       6510\n",
       "BUDGET_LINE              0\n",
       "DELAY_DESC               0\n",
       "SITE_DESCR           48221\n",
       "FY_YR1_PLAN              0\n",
       "ORIG_BUD_AMT             0\n",
       "CITY_PRIOR_ACTUAL        0\n",
       "CITY_YR1_PLAN            0\n",
       "CITY_YR2_PLAN            0\n",
       "CITY_YR3_PLAN            0\n",
       "CITY_YR4_PLAN            0\n",
       "CITY_YR5_PLAN            0\n",
       "CITY_RTC                 0\n",
       "CITY_PLAN_TOTAL          0\n",
       "dtype: int64"
      ]
     },
     "execution_count": 9,
     "metadata": {},
     "output_type": "execute_result"
    }
   ],
   "source": [
    "data = data.iloc[:, :-8]\n",
    "data.isnull().sum()"
   ]
  },
  {
   "cell_type": "code",
   "execution_count": 10,
   "id": "159a8f7f",
   "metadata": {
    "execution": {
     "iopub.execute_input": "2025-01-25T11:22:44.919969Z",
     "iopub.status.busy": "2025-01-25T11:22:44.919676Z",
     "iopub.status.idle": "2025-01-25T11:22:45.073904Z",
     "shell.execute_reply": "2025-01-25T11:22:45.072967Z"
    },
    "papermill": {
     "duration": 0.163399,
     "end_time": "2025-01-25T11:22:45.075495",
     "exception": false,
     "start_time": "2025-01-25T11:22:44.912096",
     "status": "completed"
    },
    "tags": []
   },
   "outputs": [],
   "source": [
    "from sklearn.preprocessing import LabelEncoder\n",
    "\n",
    "encoder = LabelEncoder()\n",
    "\n",
    "\n",
    "columns_to_encode = [\"BORO\", \"MANAGING_AGCY\", \"PROJECT_DESCR\",\"PROJECT_ID\",\"COMMUNITY_BOARD\",\n",
    "                     \"TYP_CATEGORY_NAME\", \"BUDGET_LINE\", \"DELAY_DESC\", \"SITE_DESCR\"]\n",
    "\n",
    "for col in columns_to_encode:\n",
    "    data[col] = encoder.fit_transform(data[col])\n"
   ]
  },
  {
   "cell_type": "code",
   "execution_count": 11,
   "id": "552946fc",
   "metadata": {
    "execution": {
     "iopub.execute_input": "2025-01-25T11:22:45.091111Z",
     "iopub.status.busy": "2025-01-25T11:22:45.090759Z",
     "iopub.status.idle": "2025-01-25T11:22:45.108638Z",
     "shell.execute_reply": "2025-01-25T11:22:45.107635Z"
    },
    "papermill": {
     "duration": 0.027506,
     "end_time": "2025-01-25T11:22:45.109959",
     "exception": false,
     "start_time": "2025-01-25T11:22:45.082453",
     "status": "completed"
    },
    "tags": []
   },
   "outputs": [
    {
     "name": "stdout",
     "output_type": "stream",
     "text": [
      "<class 'pandas.core.frame.DataFrame'>\n",
      "RangeIndex: 72437 entries, 0 to 72436\n",
      "Data columns (total 21 columns):\n",
      " #   Column             Non-Null Count  Dtype  \n",
      "---  ------             --------------  -----  \n",
      " 0   PUB_DATE           72437 non-null  int64  \n",
      " 1   BORO               72437 non-null  int64  \n",
      " 2   MANAGING_AGCY_CD   72437 non-null  int64  \n",
      " 3   MANAGING_AGCY      72437 non-null  int64  \n",
      " 4   PROJECT_ID         72437 non-null  int64  \n",
      " 5   PROJECT_DESCR      72437 non-null  int64  \n",
      " 6   TYP_CATEGORY_NAME  72437 non-null  int64  \n",
      " 7   COMMUNITY_BOARD    72437 non-null  int64  \n",
      " 8   BUDGET_LINE        72437 non-null  int64  \n",
      " 9   DELAY_DESC         72437 non-null  int64  \n",
      " 10  SITE_DESCR         72437 non-null  int64  \n",
      " 11  FY_YR1_PLAN        72437 non-null  int64  \n",
      " 12  ORIG_BUD_AMT       72437 non-null  int64  \n",
      " 13  CITY_PRIOR_ACTUAL  72437 non-null  float64\n",
      " 14  CITY_YR1_PLAN      72437 non-null  int64  \n",
      " 15  CITY_YR2_PLAN      72437 non-null  int64  \n",
      " 16  CITY_YR3_PLAN      72437 non-null  int64  \n",
      " 17  CITY_YR4_PLAN      72437 non-null  int64  \n",
      " 18  CITY_YR5_PLAN      72437 non-null  int64  \n",
      " 19  CITY_RTC           72437 non-null  int64  \n",
      " 20  CITY_PLAN_TOTAL    72437 non-null  float64\n",
      "dtypes: float64(2), int64(19)\n",
      "memory usage: 11.6 MB\n"
     ]
    }
   ],
   "source": [
    "data.info()"
   ]
  },
  {
   "cell_type": "code",
   "execution_count": 12,
   "id": "9295d16e",
   "metadata": {
    "execution": {
     "iopub.execute_input": "2025-01-25T11:22:45.125222Z",
     "iopub.status.busy": "2025-01-25T11:22:45.124959Z",
     "iopub.status.idle": "2025-01-25T11:22:45.133654Z",
     "shell.execute_reply": "2025-01-25T11:22:45.132692Z"
    },
    "papermill": {
     "duration": 0.017846,
     "end_time": "2025-01-25T11:22:45.135013",
     "exception": false,
     "start_time": "2025-01-25T11:22:45.117167",
     "status": "completed"
    },
    "tags": []
   },
   "outputs": [
    {
     "data": {
      "text/plain": [
       "PUB_DATE             0\n",
       "BORO                 0\n",
       "MANAGING_AGCY_CD     0\n",
       "MANAGING_AGCY        0\n",
       "PROJECT_ID           0\n",
       "PROJECT_DESCR        0\n",
       "TYP_CATEGORY_NAME    0\n",
       "COMMUNITY_BOARD      0\n",
       "BUDGET_LINE          0\n",
       "DELAY_DESC           0\n",
       "SITE_DESCR           0\n",
       "FY_YR1_PLAN          0\n",
       "ORIG_BUD_AMT         0\n",
       "CITY_PRIOR_ACTUAL    0\n",
       "CITY_YR1_PLAN        0\n",
       "CITY_YR2_PLAN        0\n",
       "CITY_YR3_PLAN        0\n",
       "CITY_YR4_PLAN        0\n",
       "CITY_YR5_PLAN        0\n",
       "CITY_RTC             0\n",
       "CITY_PLAN_TOTAL      0\n",
       "dtype: int64"
      ]
     },
     "execution_count": 12,
     "metadata": {},
     "output_type": "execute_result"
    }
   ],
   "source": [
    "data.isnull().sum()"
   ]
  },
  {
   "cell_type": "code",
   "execution_count": 13,
   "id": "6daabd78",
   "metadata": {
    "execution": {
     "iopub.execute_input": "2025-01-25T11:22:45.150100Z",
     "iopub.status.busy": "2025-01-25T11:22:45.149834Z",
     "iopub.status.idle": "2025-01-25T11:22:45.157681Z",
     "shell.execute_reply": "2025-01-25T11:22:45.156816Z"
    },
    "papermill": {
     "duration": 0.016717,
     "end_time": "2025-01-25T11:22:45.158963",
     "exception": false,
     "start_time": "2025-01-25T11:22:45.142246",
     "status": "completed"
    },
    "tags": []
   },
   "outputs": [
    {
     "data": {
      "text/plain": [
       "72437"
      ]
     },
     "execution_count": 13,
     "metadata": {},
     "output_type": "execute_result"
    }
   ],
   "source": [
    "data[\"DELAY_DESC\"].value_counts().sum()"
   ]
  },
  {
   "cell_type": "code",
   "execution_count": 14,
   "id": "29faf5e8",
   "metadata": {
    "execution": {
     "iopub.execute_input": "2025-01-25T11:22:45.174015Z",
     "iopub.status.busy": "2025-01-25T11:22:45.173724Z",
     "iopub.status.idle": "2025-01-25T11:22:45.181844Z",
     "shell.execute_reply": "2025-01-25T11:22:45.180980Z"
    },
    "papermill": {
     "duration": 0.017139,
     "end_time": "2025-01-25T11:22:45.183266",
     "exception": false,
     "start_time": "2025-01-25T11:22:45.166127",
     "status": "completed"
    },
    "tags": []
   },
   "outputs": [],
   "source": [
    "data[\"PUB_DATE\"]=pd.to_datetime(data[\"PUB_DATE\"])"
   ]
  },
  {
   "cell_type": "code",
   "execution_count": 15,
   "id": "99f0e6c7",
   "metadata": {
    "execution": {
     "iopub.execute_input": "2025-01-25T11:22:45.198694Z",
     "iopub.status.busy": "2025-01-25T11:22:45.198480Z",
     "iopub.status.idle": "2025-01-25T11:22:45.212444Z",
     "shell.execute_reply": "2025-01-25T11:22:45.211849Z"
    },
    "papermill": {
     "duration": 0.022941,
     "end_time": "2025-01-25T11:22:45.213847",
     "exception": false,
     "start_time": "2025-01-25T11:22:45.190906",
     "status": "completed"
    },
    "tags": []
   },
   "outputs": [],
   "source": [
    "import pandas as pd\n",
    "\n",
    "data[\"PUB_DATE\"] = pd.to_datetime(data[\"PUB_DATE\"], format=\"%Y%m%d\")"
   ]
  },
  {
   "cell_type": "code",
   "execution_count": 16,
   "id": "3c196139",
   "metadata": {
    "execution": {
     "iopub.execute_input": "2025-01-25T11:22:45.229236Z",
     "iopub.status.busy": "2025-01-25T11:22:45.229020Z",
     "iopub.status.idle": "2025-01-25T11:22:45.244264Z",
     "shell.execute_reply": "2025-01-25T11:22:45.243597Z"
    },
    "papermill": {
     "duration": 0.02401,
     "end_time": "2025-01-25T11:22:45.245411",
     "exception": false,
     "start_time": "2025-01-25T11:22:45.221401",
     "status": "completed"
    },
    "tags": []
   },
   "outputs": [],
   "source": [
    "data[\"month\"]=data[\"PUB_DATE\"].dt.month\n",
    "data[\"day\"]=data[\"PUB_DATE\"].dt.day\n",
    "data[\"year\"]=data[\"PUB_DATE\"].dt.year\n",
    "data=data.drop(\"PUB_DATE\",axis=1)"
   ]
  },
  {
   "cell_type": "code",
   "execution_count": 17,
   "id": "2a2d044a",
   "metadata": {
    "execution": {
     "iopub.execute_input": "2025-01-25T11:22:45.259809Z",
     "iopub.status.busy": "2025-01-25T11:22:45.259570Z",
     "iopub.status.idle": "2025-01-25T11:22:45.271334Z",
     "shell.execute_reply": "2025-01-25T11:22:45.270547Z"
    },
    "papermill": {
     "duration": 0.020538,
     "end_time": "2025-01-25T11:22:45.272617",
     "exception": false,
     "start_time": "2025-01-25T11:22:45.252079",
     "status": "completed"
    },
    "tags": []
   },
   "outputs": [
    {
     "name": "stdout",
     "output_type": "stream",
     "text": [
      "<class 'pandas.core.frame.DataFrame'>\n",
      "RangeIndex: 72437 entries, 0 to 72436\n",
      "Data columns (total 23 columns):\n",
      " #   Column             Non-Null Count  Dtype  \n",
      "---  ------             --------------  -----  \n",
      " 0   BORO               72437 non-null  int64  \n",
      " 1   MANAGING_AGCY_CD   72437 non-null  int64  \n",
      " 2   MANAGING_AGCY      72437 non-null  int64  \n",
      " 3   PROJECT_ID         72437 non-null  int64  \n",
      " 4   PROJECT_DESCR      72437 non-null  int64  \n",
      " 5   TYP_CATEGORY_NAME  72437 non-null  int64  \n",
      " 6   COMMUNITY_BOARD    72437 non-null  int64  \n",
      " 7   BUDGET_LINE        72437 non-null  int64  \n",
      " 8   DELAY_DESC         72437 non-null  int64  \n",
      " 9   SITE_DESCR         72437 non-null  int64  \n",
      " 10  FY_YR1_PLAN        72437 non-null  int64  \n",
      " 11  ORIG_BUD_AMT       72437 non-null  int64  \n",
      " 12  CITY_PRIOR_ACTUAL  72437 non-null  float64\n",
      " 13  CITY_YR1_PLAN      72437 non-null  int64  \n",
      " 14  CITY_YR2_PLAN      72437 non-null  int64  \n",
      " 15  CITY_YR3_PLAN      72437 non-null  int64  \n",
      " 16  CITY_YR4_PLAN      72437 non-null  int64  \n",
      " 17  CITY_YR5_PLAN      72437 non-null  int64  \n",
      " 18  CITY_RTC           72437 non-null  int64  \n",
      " 19  CITY_PLAN_TOTAL    72437 non-null  float64\n",
      " 20  month              72437 non-null  int32  \n",
      " 21  day                72437 non-null  int32  \n",
      " 22  year               72437 non-null  int32  \n",
      "dtypes: float64(2), int32(3), int64(18)\n",
      "memory usage: 11.9 MB\n"
     ]
    }
   ],
   "source": [
    "data.info()"
   ]
  },
  {
   "cell_type": "code",
   "execution_count": 18,
   "id": "83c7eaec",
   "metadata": {
    "execution": {
     "iopub.execute_input": "2025-01-25T11:22:45.287712Z",
     "iopub.status.busy": "2025-01-25T11:22:45.287508Z",
     "iopub.status.idle": "2025-01-25T11:22:45.294582Z",
     "shell.execute_reply": "2025-01-25T11:22:45.293968Z"
    },
    "papermill": {
     "duration": 0.015745,
     "end_time": "2025-01-25T11:22:45.295805",
     "exception": false,
     "start_time": "2025-01-25T11:22:45.280060",
     "status": "completed"
    },
    "tags": []
   },
   "outputs": [],
   "source": [
    "linear_ydata=data[\"CITY_PLAN_TOTAL\"]\n",
    "linear_xdata=data.drop(\"CITY_PLAN_TOTAL\",axis=1)"
   ]
  },
  {
   "cell_type": "code",
   "execution_count": 19,
   "id": "6a292e19",
   "metadata": {
    "execution": {
     "iopub.execute_input": "2025-01-25T11:22:45.310524Z",
     "iopub.status.busy": "2025-01-25T11:22:45.310324Z",
     "iopub.status.idle": "2025-01-25T11:22:45.330116Z",
     "shell.execute_reply": "2025-01-25T11:22:45.329462Z"
    },
    "papermill": {
     "duration": 0.02891,
     "end_time": "2025-01-25T11:22:45.331499",
     "exception": false,
     "start_time": "2025-01-25T11:22:45.302589",
     "status": "completed"
    },
    "tags": []
   },
   "outputs": [],
   "source": [
    "x_train,x_test,y_train,y_test=train_test_split(linear_xdata,linear_ydata,test_size=0.2)"
   ]
  },
  {
   "cell_type": "code",
   "execution_count": 20,
   "id": "9c637acb",
   "metadata": {
    "execution": {
     "iopub.execute_input": "2025-01-25T11:22:45.346996Z",
     "iopub.status.busy": "2025-01-25T11:22:45.346722Z",
     "iopub.status.idle": "2025-01-25T11:22:45.351051Z",
     "shell.execute_reply": "2025-01-25T11:22:45.350290Z"
    },
    "papermill": {
     "duration": 0.01307,
     "end_time": "2025-01-25T11:22:45.352260",
     "exception": false,
     "start_time": "2025-01-25T11:22:45.339190",
     "status": "completed"
    },
    "tags": []
   },
   "outputs": [
    {
     "name": "stdout",
     "output_type": "stream",
     "text": [
      "(57949, 22)\n",
      "(57949,)\n",
      "(14488, 22)\n",
      "(14488,)\n"
     ]
    }
   ],
   "source": [
    "print(x_train.shape)\n",
    "print(y_train.shape)\n",
    "print(x_test.shape)\n",
    "print(y_test.shape)"
   ]
  },
  {
   "cell_type": "code",
   "execution_count": 21,
   "id": "b3772734",
   "metadata": {
    "execution": {
     "iopub.execute_input": "2025-01-25T11:22:45.367057Z",
     "iopub.status.busy": "2025-01-25T11:22:45.366847Z",
     "iopub.status.idle": "2025-01-25T11:22:45.384748Z",
     "shell.execute_reply": "2025-01-25T11:22:45.384055Z"
    },
    "papermill": {
     "duration": 0.027148,
     "end_time": "2025-01-25T11:22:45.386352",
     "exception": false,
     "start_time": "2025-01-25T11:22:45.359204",
     "status": "completed"
    },
    "tags": []
   },
   "outputs": [],
   "source": [
    "import numpy as np\n",
    "\n",
    "X_train = np.array(x_train).reshape((x_train.shape[0], 1, x_train.shape[1]))\n",
    "X_test = np.array(x_test).reshape((x_test.shape[0], 1, x_test.shape[1]))"
   ]
  },
  {
   "cell_type": "code",
   "execution_count": 22,
   "id": "24d78702",
   "metadata": {
    "execution": {
     "iopub.execute_input": "2025-01-25T11:22:45.401851Z",
     "iopub.status.busy": "2025-01-25T11:22:45.401564Z",
     "iopub.status.idle": "2025-01-25T11:22:48.097486Z",
     "shell.execute_reply": "2025-01-25T11:22:48.096744Z"
    },
    "papermill": {
     "duration": 2.705146,
     "end_time": "2025-01-25T11:22:48.099131",
     "exception": false,
     "start_time": "2025-01-25T11:22:45.393985",
     "status": "completed"
    },
    "tags": []
   },
   "outputs": [
    {
     "name": "stderr",
     "output_type": "stream",
     "text": [
      "/usr/local/lib/python3.10/dist-packages/keras/src/layers/rnn/rnn.py:204: UserWarning: Do not pass an `input_shape`/`input_dim` argument to a layer. When using Sequential models, prefer using an `Input(shape)` object as the first layer in the model instead.\n",
      "  super().__init__(**kwargs)\n"
     ]
    }
   ],
   "source": [
    "import tensorflow as tf\n",
    "from tensorflow.keras.models import Sequential\n",
    "from tensorflow.keras.layers import LSTM, Dense, Dropout\n",
    "\n",
    "\n",
    "model = Sequential([\n",
    "    LSTM(50, activation='relu', return_sequences=True, input_shape=(1, X_train.shape[2])),\n",
    "    Dropout(0.2),  \n",
    "    LSTM(50, activation='relu'),\n",
    "    Dropout(0.2),\n",
    "    Dense(1, activation='linear')  # Assuming a binary classification problem\n",
    "])\n",
    "\n",
    "\n",
    "model.compile(optimizer='adam', loss='mae', metrics=['mae'])"
   ]
  },
  {
   "cell_type": "code",
   "execution_count": 23,
   "id": "a840c4c3",
   "metadata": {
    "execution": {
     "iopub.execute_input": "2025-01-25T11:22:48.121232Z",
     "iopub.status.busy": "2025-01-25T11:22:48.120937Z",
     "iopub.status.idle": "2025-01-25T11:23:56.956421Z",
     "shell.execute_reply": "2025-01-25T11:23:56.955698Z"
    },
    "papermill": {
     "duration": 68.846062,
     "end_time": "2025-01-25T11:23:56.957673",
     "exception": false,
     "start_time": "2025-01-25T11:22:48.111611",
     "status": "completed"
    },
    "tags": []
   },
   "outputs": [
    {
     "name": "stdout",
     "output_type": "stream",
     "text": [
      "Epoch 1/20\n",
      "\u001b[1m1811/1811\u001b[0m \u001b[32m━━━━━━━━━━━━━━━━━━━━\u001b[0m\u001b[37m\u001b[0m \u001b[1m11s\u001b[0m 3ms/step - loss: 10882.9795 - mae: 10882.9795 - val_loss: 3113.3562 - val_mae: 3113.3562\n",
      "Epoch 2/20\n",
      "\u001b[1m1811/1811\u001b[0m \u001b[32m━━━━━━━━━━━━━━━━━━━━\u001b[0m\u001b[37m\u001b[0m \u001b[1m3s\u001b[0m 2ms/step - loss: 5282.8687 - mae: 5282.8687 - val_loss: 3867.6885 - val_mae: 3867.6885\n",
      "Epoch 3/20\n",
      "\u001b[1m1811/1811\u001b[0m \u001b[32m━━━━━━━━━━━━━━━━━━━━\u001b[0m\u001b[37m\u001b[0m \u001b[1m3s\u001b[0m 2ms/step - loss: 5102.6685 - mae: 5102.6685 - val_loss: 2232.5745 - val_mae: 2232.5745\n",
      "Epoch 4/20\n",
      "\u001b[1m1811/1811\u001b[0m \u001b[32m━━━━━━━━━━━━━━━━━━━━\u001b[0m\u001b[37m\u001b[0m \u001b[1m3s\u001b[0m 2ms/step - loss: 4007.6965 - mae: 4007.6965 - val_loss: 1986.7802 - val_mae: 1986.7802\n",
      "Epoch 5/20\n",
      "\u001b[1m1811/1811\u001b[0m \u001b[32m━━━━━━━━━━━━━━━━━━━━\u001b[0m\u001b[37m\u001b[0m \u001b[1m3s\u001b[0m 2ms/step - loss: 4176.1694 - mae: 4176.1694 - val_loss: 2413.5359 - val_mae: 2413.5359\n",
      "Epoch 6/20\n",
      "\u001b[1m1811/1811\u001b[0m \u001b[32m━━━━━━━━━━━━━━━━━━━━\u001b[0m\u001b[37m\u001b[0m \u001b[1m3s\u001b[0m 2ms/step - loss: 3824.9202 - mae: 3824.9202 - val_loss: 2594.5166 - val_mae: 2594.5166\n",
      "Epoch 7/20\n",
      "\u001b[1m1811/1811\u001b[0m \u001b[32m━━━━━━━━━━━━━━━━━━━━\u001b[0m\u001b[37m\u001b[0m \u001b[1m3s\u001b[0m 2ms/step - loss: 3919.7190 - mae: 3919.7190 - val_loss: 3038.7412 - val_mae: 3038.7412\n",
      "Epoch 8/20\n",
      "\u001b[1m1811/1811\u001b[0m \u001b[32m━━━━━━━━━━━━━━━━━━━━\u001b[0m\u001b[37m\u001b[0m \u001b[1m3s\u001b[0m 2ms/step - loss: 3754.0474 - mae: 3754.0474 - val_loss: 2362.9785 - val_mae: 2362.9785\n",
      "Epoch 9/20\n",
      "\u001b[1m1811/1811\u001b[0m \u001b[32m━━━━━━━━━━━━━━━━━━━━\u001b[0m\u001b[37m\u001b[0m \u001b[1m3s\u001b[0m 2ms/step - loss: 3401.7114 - mae: 3401.7114 - val_loss: 1873.0226 - val_mae: 1873.0226\n",
      "Epoch 10/20\n",
      "\u001b[1m1811/1811\u001b[0m \u001b[32m━━━━━━━━━━━━━━━━━━━━\u001b[0m\u001b[37m\u001b[0m \u001b[1m3s\u001b[0m 2ms/step - loss: 3513.7207 - mae: 3513.7207 - val_loss: 1866.5210 - val_mae: 1866.5210\n",
      "Epoch 11/20\n",
      "\u001b[1m1811/1811\u001b[0m \u001b[32m━━━━━━━━━━━━━━━━━━━━\u001b[0m\u001b[37m\u001b[0m \u001b[1m3s\u001b[0m 2ms/step - loss: 3329.8137 - mae: 3329.8137 - val_loss: 3706.3228 - val_mae: 3706.3228\n",
      "Epoch 12/20\n",
      "\u001b[1m1811/1811\u001b[0m \u001b[32m━━━━━━━━━━━━━━━━━━━━\u001b[0m\u001b[37m\u001b[0m \u001b[1m3s\u001b[0m 2ms/step - loss: 3502.7415 - mae: 3502.7415 - val_loss: 3450.1758 - val_mae: 3450.1758\n",
      "Epoch 13/20\n",
      "\u001b[1m1811/1811\u001b[0m \u001b[32m━━━━━━━━━━━━━━━━━━━━\u001b[0m\u001b[37m\u001b[0m \u001b[1m3s\u001b[0m 2ms/step - loss: 3126.9119 - mae: 3126.9119 - val_loss: 2428.8203 - val_mae: 2428.8203\n",
      "Epoch 14/20\n",
      "\u001b[1m1811/1811\u001b[0m \u001b[32m━━━━━━━━━━━━━━━━━━━━\u001b[0m\u001b[37m\u001b[0m \u001b[1m3s\u001b[0m 2ms/step - loss: 3116.4475 - mae: 3116.4475 - val_loss: 2549.2783 - val_mae: 2549.2783\n",
      "Epoch 15/20\n",
      "\u001b[1m1811/1811\u001b[0m \u001b[32m━━━━━━━━━━━━━━━━━━━━\u001b[0m\u001b[37m\u001b[0m \u001b[1m3s\u001b[0m 2ms/step - loss: 2676.3777 - mae: 2676.3777 - val_loss: 3018.9026 - val_mae: 3018.9026\n",
      "Epoch 16/20\n",
      "\u001b[1m1811/1811\u001b[0m \u001b[32m━━━━━━━━━━━━━━━━━━━━\u001b[0m\u001b[37m\u001b[0m \u001b[1m3s\u001b[0m 2ms/step - loss: 2967.9280 - mae: 2967.9280 - val_loss: 2843.0171 - val_mae: 2843.0171\n",
      "Epoch 17/20\n",
      "\u001b[1m1811/1811\u001b[0m \u001b[32m━━━━━━━━━━━━━━━━━━━━\u001b[0m\u001b[37m\u001b[0m \u001b[1m3s\u001b[0m 2ms/step - loss: 2720.4570 - mae: 2720.4570 - val_loss: 3374.0999 - val_mae: 3374.0999\n",
      "Epoch 18/20\n",
      "\u001b[1m1811/1811\u001b[0m \u001b[32m━━━━━━━━━━━━━━━━━━━━\u001b[0m\u001b[37m\u001b[0m \u001b[1m3s\u001b[0m 2ms/step - loss: 2443.3247 - mae: 2443.3247 - val_loss: 1717.0621 - val_mae: 1717.0621\n",
      "Epoch 19/20\n",
      "\u001b[1m1811/1811\u001b[0m \u001b[32m━━━━━━━━━━━━━━━━━━━━\u001b[0m\u001b[37m\u001b[0m \u001b[1m3s\u001b[0m 2ms/step - loss: 2665.3816 - mae: 2665.3816 - val_loss: 2383.9548 - val_mae: 2383.9548\n",
      "Epoch 20/20\n",
      "\u001b[1m1811/1811\u001b[0m \u001b[32m━━━━━━━━━━━━━━━━━━━━\u001b[0m\u001b[37m\u001b[0m \u001b[1m3s\u001b[0m 2ms/step - loss: 2553.8193 - mae: 2553.8193 - val_loss: 3154.1753 - val_mae: 3154.1753\n"
     ]
    }
   ],
   "source": [
    "history = model.fit(X_train, y_train, epochs=20, batch_size=32, validation_data=(X_test, y_test))"
   ]
  },
  {
   "cell_type": "code",
   "execution_count": 24,
   "id": "4d89f0b6",
   "metadata": {
    "execution": {
     "iopub.execute_input": "2025-01-25T11:23:57.070570Z",
     "iopub.status.busy": "2025-01-25T11:23:57.070269Z",
     "iopub.status.idle": "2025-01-25T11:23:57.108893Z",
     "shell.execute_reply": "2025-01-25T11:23:57.108178Z"
    },
    "papermill": {
     "duration": 0.096467,
     "end_time": "2025-01-25T11:23:57.110305",
     "exception": false,
     "start_time": "2025-01-25T11:23:57.013838",
     "status": "completed"
    },
    "tags": []
   },
   "outputs": [],
   "source": [
    "model.save(\"linear.h5\")"
   ]
  },
  {
   "cell_type": "code",
   "execution_count": 25,
   "id": "a1a72b1f",
   "metadata": {
    "execution": {
     "iopub.execute_input": "2025-01-25T11:23:57.218710Z",
     "iopub.status.busy": "2025-01-25T11:23:57.218414Z",
     "iopub.status.idle": "2025-01-25T11:23:57.227421Z",
     "shell.execute_reply": "2025-01-25T11:23:57.226806Z"
    },
    "papermill": {
     "duration": 0.064305,
     "end_time": "2025-01-25T11:23:57.228619",
     "exception": false,
     "start_time": "2025-01-25T11:23:57.164314",
     "status": "completed"
    },
    "tags": []
   },
   "outputs": [],
   "source": [
    "cat_ydata=data[\"DELAY_DESC\"]\n",
    "cat_xdata=data.drop(\"DELAY_DESC\",axis=1)"
   ]
  },
  {
   "cell_type": "code",
   "execution_count": 26,
   "id": "ba69d724",
   "metadata": {
    "execution": {
     "iopub.execute_input": "2025-01-25T11:23:57.380100Z",
     "iopub.status.busy": "2025-01-25T11:23:57.379754Z",
     "iopub.status.idle": "2025-01-25T11:23:57.410574Z",
     "shell.execute_reply": "2025-01-25T11:23:57.409858Z"
    },
    "papermill": {
     "duration": 0.128661,
     "end_time": "2025-01-25T11:23:57.411982",
     "exception": false,
     "start_time": "2025-01-25T11:23:57.283321",
     "status": "completed"
    },
    "tags": []
   },
   "outputs": [],
   "source": [
    "x_train,x_test,y_train,y_test=train_test_split(linear_xdata,linear_ydata,test_size=0.2)"
   ]
  },
  {
   "cell_type": "code",
   "execution_count": 27,
   "id": "f1fc7c86",
   "metadata": {
    "execution": {
     "iopub.execute_input": "2025-01-25T11:23:57.526361Z",
     "iopub.status.busy": "2025-01-25T11:23:57.526066Z",
     "iopub.status.idle": "2025-01-25T11:23:57.542222Z",
     "shell.execute_reply": "2025-01-25T11:23:57.541255Z"
    },
    "papermill": {
     "duration": 0.0724,
     "end_time": "2025-01-25T11:23:57.543658",
     "exception": false,
     "start_time": "2025-01-25T11:23:57.471258",
     "status": "completed"
    },
    "tags": []
   },
   "outputs": [],
   "source": [
    "import numpy as np\n",
    "\n",
    "X_train = np.array(x_train).reshape((x_train.shape[0], 1, x_train.shape[1]))\n",
    "X_test = np.array(x_test).reshape((x_test.shape[0], 1, x_test.shape[1]))"
   ]
  },
  {
   "cell_type": "code",
   "execution_count": 28,
   "id": "93200b96",
   "metadata": {
    "execution": {
     "iopub.execute_input": "2025-01-25T11:23:57.657257Z",
     "iopub.status.busy": "2025-01-25T11:23:57.656971Z",
     "iopub.status.idle": "2025-01-25T11:23:57.707269Z",
     "shell.execute_reply": "2025-01-25T11:23:57.706335Z"
    },
    "papermill": {
     "duration": 0.108549,
     "end_time": "2025-01-25T11:23:57.708724",
     "exception": false,
     "start_time": "2025-01-25T11:23:57.600175",
     "status": "completed"
    },
    "tags": []
   },
   "outputs": [
    {
     "name": "stderr",
     "output_type": "stream",
     "text": [
      "/usr/local/lib/python3.10/dist-packages/keras/src/layers/rnn/rnn.py:204: UserWarning: Do not pass an `input_shape`/`input_dim` argument to a layer. When using Sequential models, prefer using an `Input(shape)` object as the first layer in the model instead.\n",
      "  super().__init__(**kwargs)\n"
     ]
    }
   ],
   "source": [
    "import tensorflow as tf\n",
    "from tensorflow.keras.models import Sequential\n",
    "from tensorflow.keras.layers import LSTM, Dense, Dropout\n",
    "\n",
    "\n",
    "model = Sequential([\n",
    "    LSTM(50, activation='relu', return_sequences=True, input_shape=(1, X_train.shape[2])),\n",
    "    Dropout(0.2),  # Prevent overfitting\n",
    "    LSTM(50, activation='relu'),\n",
    "    Dropout(0.2),\n",
    "    Dense(1, activation='sigmoid')  # Assuming a binary classification problem\n",
    "])\n",
    "\n",
    "# Compile the model\n",
    "model.compile(optimizer='adam', loss='binary_crossentropy', metrics=['accuracy'])"
   ]
  },
  {
   "cell_type": "code",
   "execution_count": 29,
   "id": "47f6116e",
   "metadata": {
    "execution": {
     "iopub.execute_input": "2025-01-25T11:23:57.824034Z",
     "iopub.status.busy": "2025-01-25T11:23:57.823694Z",
     "iopub.status.idle": "2025-01-25T11:25:07.393868Z",
     "shell.execute_reply": "2025-01-25T11:25:07.393151Z"
    },
    "papermill": {
     "duration": 69.631055,
     "end_time": "2025-01-25T11:25:07.395325",
     "exception": false,
     "start_time": "2025-01-25T11:23:57.764270",
     "status": "completed"
    },
    "tags": []
   },
   "outputs": [
    {
     "name": "stdout",
     "output_type": "stream",
     "text": [
      "Epoch 1/20\n",
      "\u001b[1m1811/1811\u001b[0m \u001b[32m━━━━━━━━━━━━━━━━━━━━\u001b[0m\u001b[37m\u001b[0m \u001b[1m10s\u001b[0m 3ms/step - accuracy: 2.7818e-04 - loss: -950257975296.0000 - val_accuracy: 0.0000e+00 - val_loss: -11796777795584.0000\n",
      "Epoch 2/20\n",
      "\u001b[1m1811/1811\u001b[0m \u001b[32m━━━━━━━━━━━━━━━━━━━━\u001b[0m\u001b[37m\u001b[0m \u001b[1m3s\u001b[0m 2ms/step - accuracy: 2.1772e-05 - loss: -16075900059648.0000 - val_accuracy: 0.0000e+00 - val_loss: -57941424078848.0000\n",
      "Epoch 3/20\n",
      "\u001b[1m1811/1811\u001b[0m \u001b[32m━━━━━━━━━━━━━━━━━━━━\u001b[0m\u001b[37m\u001b[0m \u001b[1m3s\u001b[0m 2ms/step - accuracy: 8.7337e-05 - loss: -62575412772864.0000 - val_accuracy: 0.0000e+00 - val_loss: -148257959313408.0000\n",
      "Epoch 4/20\n",
      "\u001b[1m1811/1811\u001b[0m \u001b[32m━━━━━━━━━━━━━━━━━━━━\u001b[0m\u001b[37m\u001b[0m \u001b[1m3s\u001b[0m 2ms/step - accuracy: 6.9036e-05 - loss: -150606434009088.0000 - val_accuracy: 0.0000e+00 - val_loss: -299165108142080.0000\n",
      "Epoch 5/20\n",
      "\u001b[1m1811/1811\u001b[0m \u001b[32m━━━━━━━━━━━━━━━━━━━━\u001b[0m\u001b[37m\u001b[0m \u001b[1m3s\u001b[0m 2ms/step - accuracy: 8.3097e-05 - loss: -330268992864256.0000 - val_accuracy: 0.0000e+00 - val_loss: -486767098593280.0000\n",
      "Epoch 6/20\n",
      "\u001b[1m1811/1811\u001b[0m \u001b[32m━━━━━━━━━━━━━━━━━━━━\u001b[0m\u001b[37m\u001b[0m \u001b[1m3s\u001b[0m 2ms/step - accuracy: 1.1754e-04 - loss: -521459260719104.0000 - val_accuracy: 0.0000e+00 - val_loss: -746794954784768.0000\n",
      "Epoch 7/20\n",
      "\u001b[1m1811/1811\u001b[0m \u001b[32m━━━━━━━━━━━━━━━━━━━━\u001b[0m\u001b[37m\u001b[0m \u001b[1m3s\u001b[0m 2ms/step - accuracy: 4.6003e-05 - loss: -824885379072000.0000 - val_accuracy: 0.0000e+00 - val_loss: -1092054423699456.0000\n",
      "Epoch 8/20\n",
      "\u001b[1m1811/1811\u001b[0m \u001b[32m━━━━━━━━━━━━━━━━━━━━\u001b[0m\u001b[37m\u001b[0m \u001b[1m3s\u001b[0m 2ms/step - accuracy: 1.0948e-04 - loss: -1107368465137664.0000 - val_accuracy: 0.0000e+00 - val_loss: -1536600785813504.0000\n",
      "Epoch 9/20\n",
      "\u001b[1m1811/1811\u001b[0m \u001b[32m━━━━━━━━━━━━━━━━━━━━\u001b[0m\u001b[37m\u001b[0m \u001b[1m3s\u001b[0m 2ms/step - accuracy: 6.8662e-05 - loss: -1411207470776320.0000 - val_accuracy: 0.0000e+00 - val_loss: -2044563749339136.0000\n",
      "Epoch 10/20\n",
      "\u001b[1m1811/1811\u001b[0m \u001b[32m━━━━━━━━━━━━━━━━━━━━\u001b[0m\u001b[37m\u001b[0m \u001b[1m3s\u001b[0m 2ms/step - accuracy: 4.9409e-05 - loss: -1917193407168512.0000 - val_accuracy: 0.0000e+00 - val_loss: -2641350126206976.0000\n",
      "Epoch 11/20\n",
      "\u001b[1m1811/1811\u001b[0m \u001b[32m━━━━━━━━━━━━━━━━━━━━\u001b[0m\u001b[37m\u001b[0m \u001b[1m3s\u001b[0m 2ms/step - accuracy: 6.6406e-05 - loss: -2591542732652544.0000 - val_accuracy: 0.0000e+00 - val_loss: -3356908052283392.0000\n",
      "Epoch 12/20\n",
      "\u001b[1m1811/1811\u001b[0m \u001b[32m━━━━━━━━━━━━━━━━━━━━\u001b[0m\u001b[37m\u001b[0m \u001b[1m3s\u001b[0m 2ms/step - accuracy: 4.3573e-05 - loss: -2739694945173504.0000 - val_accuracy: 0.0000e+00 - val_loss: -4304599833903104.0000\n",
      "Epoch 13/20\n",
      "\u001b[1m1811/1811\u001b[0m \u001b[32m━━━━━━━━━━━━━━━━━━━━\u001b[0m\u001b[37m\u001b[0m \u001b[1m3s\u001b[0m 2ms/step - accuracy: 6.2909e-05 - loss: -4252103253950464.0000 - val_accuracy: 0.0000e+00 - val_loss: -5213965743292416.0000\n",
      "Epoch 14/20\n",
      "\u001b[1m1811/1811\u001b[0m \u001b[32m━━━━━━━━━━━━━━━━━━━━\u001b[0m\u001b[37m\u001b[0m \u001b[1m3s\u001b[0m 2ms/step - accuracy: 9.1174e-05 - loss: -5315324287123456.0000 - val_accuracy: 0.0000e+00 - val_loss: -6256663543676928.0000\n",
      "Epoch 15/20\n",
      "\u001b[1m1811/1811\u001b[0m \u001b[32m━━━━━━━━━━━━━━━━━━━━\u001b[0m\u001b[37m\u001b[0m \u001b[1m3s\u001b[0m 2ms/step - accuracy: 6.3041e-05 - loss: -5804690713346048.0000 - val_accuracy: 0.0000e+00 - val_loss: -7585744394649600.0000\n",
      "Epoch 16/20\n",
      "\u001b[1m1811/1811\u001b[0m \u001b[32m━━━━━━━━━━━━━━━━━━━━\u001b[0m\u001b[37m\u001b[0m \u001b[1m3s\u001b[0m 2ms/step - accuracy: 7.7373e-05 - loss: -8116809047736320.0000 - val_accuracy: 0.0000e+00 - val_loss: -8883131071332352.0000\n",
      "Epoch 17/20\n",
      "\u001b[1m1811/1811\u001b[0m \u001b[32m━━━━━━━━━━━━━━━━━━━━\u001b[0m\u001b[37m\u001b[0m \u001b[1m3s\u001b[0m 2ms/step - accuracy: 9.4301e-05 - loss: -9079820709265408.0000 - val_accuracy: 0.0000e+00 - val_loss: -10435358558781440.0000\n",
      "Epoch 18/20\n",
      "\u001b[1m1811/1811\u001b[0m \u001b[32m━━━━━━━━━━━━━━━━━━━━\u001b[0m\u001b[37m\u001b[0m \u001b[1m3s\u001b[0m 2ms/step - accuracy: 3.5941e-05 - loss: -8521369734086656.0000 - val_accuracy: 0.0000e+00 - val_loss: -12295611973894144.0000\n",
      "Epoch 19/20\n",
      "\u001b[1m1811/1811\u001b[0m \u001b[32m━━━━━━━━━━━━━━━━━━━━\u001b[0m\u001b[37m\u001b[0m \u001b[1m3s\u001b[0m 2ms/step - accuracy: 3.0092e-05 - loss: -12255571067535360.0000 - val_accuracy: 0.0000e+00 - val_loss: -14098410537746432.0000\n",
      "Epoch 20/20\n",
      "\u001b[1m1811/1811\u001b[0m \u001b[32m━━━━━━━━━━━━━━━━━━━━\u001b[0m\u001b[37m\u001b[0m \u001b[1m3s\u001b[0m 2ms/step - accuracy: 5.0453e-05 - loss: -12671493552996352.0000 - val_accuracy: 0.0000e+00 - val_loss: -16109804925747200.0000\n"
     ]
    }
   ],
   "source": [
    "history = model.fit(X_train, y_train, epochs=20, batch_size=32, validation_data=(X_test, y_test))"
   ]
  },
  {
   "cell_type": "code",
   "execution_count": 30,
   "id": "23bbfecc",
   "metadata": {
    "execution": {
     "iopub.execute_input": "2025-01-25T11:25:07.609832Z",
     "iopub.status.busy": "2025-01-25T11:25:07.609467Z",
     "iopub.status.idle": "2025-01-25T11:25:07.633735Z",
     "shell.execute_reply": "2025-01-25T11:25:07.632928Z"
    },
    "papermill": {
     "duration": 0.131761,
     "end_time": "2025-01-25T11:25:07.634985",
     "exception": false,
     "start_time": "2025-01-25T11:25:07.503224",
     "status": "completed"
    },
    "tags": []
   },
   "outputs": [],
   "source": [
    "model.save(\"cat.h5\")"
   ]
  },
  {
   "cell_type": "code",
   "execution_count": 31,
   "id": "624135d4",
   "metadata": {
    "execution": {
     "iopub.execute_input": "2025-01-25T11:25:07.844749Z",
     "iopub.status.busy": "2025-01-25T11:25:07.844405Z",
     "iopub.status.idle": "2025-01-25T11:25:07.857396Z",
     "shell.execute_reply": "2025-01-25T11:25:07.856424Z"
    },
    "papermill": {
     "duration": 0.120169,
     "end_time": "2025-01-25T11:25:07.858761",
     "exception": false,
     "start_time": "2025-01-25T11:25:07.738592",
     "status": "completed"
    },
    "tags": []
   },
   "outputs": [
    {
     "name": "stdout",
     "output_type": "stream",
     "text": [
      "Shape of X data: (72437, 18)\n",
      "Shape of Y data: (72437, 5)\n"
     ]
    }
   ],
   "source": [
    "# Define the columns to drop\n",
    "columns_to_drop = [\"CITY_YR1_PLAN\", \"CITY_YR2_PLAN\", \"CITY_YR3_PLAN\", \"CITY_YR4_PLAN\", \"CITY_YR5_PLAN\"]\n",
    "\n",
    "# Extract target values (Y data)\n",
    "predict_ydata = data[columns_to_drop]  # Use double brackets to select multiple columns\n",
    "\n",
    "# Extract feature values (X data)\n",
    "predict_xdata = data.drop(columns=columns_to_drop, axis=1)\n",
    "\n",
    "# Check the shapes of the datasets\n",
    "print(\"Shape of X data:\", predict_xdata.shape)\n",
    "print(\"Shape of Y data:\", predict_ydata.shape)\n"
   ]
  },
  {
   "cell_type": "code",
   "execution_count": 32,
   "id": "ba43a185",
   "metadata": {
    "execution": {
     "iopub.execute_input": "2025-01-25T11:25:08.067520Z",
     "iopub.status.busy": "2025-01-25T11:25:08.067229Z",
     "iopub.status.idle": "2025-01-25T11:25:08.082635Z",
     "shell.execute_reply": "2025-01-25T11:25:08.081940Z"
    },
    "papermill": {
     "duration": 0.121285,
     "end_time": "2025-01-25T11:25:08.084078",
     "exception": false,
     "start_time": "2025-01-25T11:25:07.962793",
     "status": "completed"
    },
    "tags": []
   },
   "outputs": [],
   "source": [
    "predict_xdata = np.array(predict_xdata).reshape((predict_xdata.shape[0], 1, predict_xdata.shape[1]))\n",
    "predict_ydata = np.array(predict_ydata)"
   ]
  },
  {
   "cell_type": "code",
   "execution_count": 33,
   "id": "5b17193b",
   "metadata": {
    "execution": {
     "iopub.execute_input": "2025-01-25T11:25:08.295241Z",
     "iopub.status.busy": "2025-01-25T11:25:08.294927Z",
     "iopub.status.idle": "2025-01-25T11:25:08.315738Z",
     "shell.execute_reply": "2025-01-25T11:25:08.314835Z"
    },
    "papermill": {
     "duration": 0.126894,
     "end_time": "2025-01-25T11:25:08.317311",
     "exception": false,
     "start_time": "2025-01-25T11:25:08.190417",
     "status": "completed"
    },
    "tags": []
   },
   "outputs": [],
   "source": [
    "X_train, X_test, y_train, y_test = train_test_split(predict_xdata, predict_ydata, test_size=0.2, random_state=42)"
   ]
  },
  {
   "cell_type": "code",
   "execution_count": 34,
   "id": "2584d29c",
   "metadata": {
    "execution": {
     "iopub.execute_input": "2025-01-25T11:25:08.525279Z",
     "iopub.status.busy": "2025-01-25T11:25:08.524977Z",
     "iopub.status.idle": "2025-01-25T11:25:08.854485Z",
     "shell.execute_reply": "2025-01-25T11:25:08.853316Z"
    },
    "papermill": {
     "duration": 0.434844,
     "end_time": "2025-01-25T11:25:08.855978",
     "exception": true,
     "start_time": "2025-01-25T11:25:08.421134",
     "status": "failed"
    },
    "tags": []
   },
   "outputs": [
    {
     "ename": "NameError",
     "evalue": "name 'X_scaled' is not defined",
     "output_type": "error",
     "traceback": [
      "\u001b[0;31m---------------------------------------------------------------------------\u001b[0m",
      "\u001b[0;31mNameError\u001b[0m                                 Traceback (most recent call last)",
      "\u001b[0;32m<ipython-input-34-aa6f940c77b6>\u001b[0m in \u001b[0;36m<cell line: 2>\u001b[0;34m()\u001b[0m\n\u001b[1;32m      1\u001b[0m \u001b[0;31m# Build LSTM model\u001b[0m\u001b[0;34m\u001b[0m\u001b[0;34m\u001b[0m\u001b[0m\n\u001b[1;32m      2\u001b[0m model = Sequential([\n\u001b[0;32m----> 3\u001b[0;31m     \u001b[0mLSTM\u001b[0m\u001b[0;34m(\u001b[0m\u001b[0;36m50\u001b[0m\u001b[0;34m,\u001b[0m \u001b[0mactivation\u001b[0m\u001b[0;34m=\u001b[0m\u001b[0;34m'relu'\u001b[0m\u001b[0;34m,\u001b[0m \u001b[0mreturn_sequences\u001b[0m\u001b[0;34m=\u001b[0m\u001b[0;32mTrue\u001b[0m\u001b[0;34m,\u001b[0m \u001b[0minput_shape\u001b[0m\u001b[0;34m=\u001b[0m\u001b[0;34m(\u001b[0m\u001b[0;36m1\u001b[0m\u001b[0;34m,\u001b[0m \u001b[0mX_scaled\u001b[0m\u001b[0;34m.\u001b[0m\u001b[0mshape\u001b[0m\u001b[0;34m[\u001b[0m\u001b[0;36m2\u001b[0m\u001b[0;34m]\u001b[0m\u001b[0;34m)\u001b[0m\u001b[0;34m)\u001b[0m\u001b[0;34m,\u001b[0m\u001b[0;34m\u001b[0m\u001b[0;34m\u001b[0m\u001b[0m\n\u001b[0m\u001b[1;32m      4\u001b[0m     \u001b[0mDropout\u001b[0m\u001b[0;34m(\u001b[0m\u001b[0;36m0.2\u001b[0m\u001b[0;34m)\u001b[0m\u001b[0;34m,\u001b[0m\u001b[0;34m\u001b[0m\u001b[0;34m\u001b[0m\u001b[0m\n\u001b[1;32m      5\u001b[0m     \u001b[0mLSTM\u001b[0m\u001b[0;34m(\u001b[0m\u001b[0;36m50\u001b[0m\u001b[0;34m,\u001b[0m \u001b[0mactivation\u001b[0m\u001b[0;34m=\u001b[0m\u001b[0;34m'relu'\u001b[0m\u001b[0;34m,\u001b[0m \u001b[0mreturn_sequences\u001b[0m\u001b[0;34m=\u001b[0m\u001b[0;32mFalse\u001b[0m\u001b[0;34m)\u001b[0m\u001b[0;34m,\u001b[0m\u001b[0;34m\u001b[0m\u001b[0;34m\u001b[0m\u001b[0m\n",
      "\u001b[0;31mNameError\u001b[0m: name 'X_scaled' is not defined"
     ]
    }
   ],
   "source": [
    "# Build LSTM model\n",
    "model = Sequential([\n",
    "    LSTM(50, activation='relu', return_sequences=True, input_shape=(1, X_scaled.shape[2])),\n",
    "    Dropout(0.2),\n",
    "    LSTM(50, activation='relu', return_sequences=False),\n",
    "    Dropout(0.2),\n",
    "    Dense(5, activation='linear')  # 5 outputs for budget predictions\n",
    "])\n"
   ]
  },
  {
   "cell_type": "code",
   "execution_count": null,
   "id": "78be344d",
   "metadata": {
    "execution": {
     "iopub.execute_input": "2025-01-25T11:13:37.394606Z",
     "iopub.status.busy": "2025-01-25T11:13:37.394272Z",
     "iopub.status.idle": "2025-01-25T11:14:42.789080Z",
     "shell.execute_reply": "2025-01-25T11:14:42.788208Z",
     "shell.execute_reply.started": "2025-01-25T11:13:37.394565Z"
    },
    "papermill": {
     "duration": null,
     "end_time": null,
     "exception": null,
     "start_time": null,
     "status": "pending"
    },
    "tags": []
   },
   "outputs": [],
   "source": [
    "model.compile(optimizer='adam', loss='mse', metrics=['mae'])\n",
    "\n",
    "\n",
    "early_stopping = EarlyStopping(monitor='val_loss', patience=10, restore_best_weights=True)\n",
    "\n",
    "\n",
    "history = model.fit(X_train, y_train, epochs=50, batch_size=32, validation_data=(X_test, y_test), callbacks=[early_stopping])\n"
   ]
  },
  {
   "cell_type": "code",
   "execution_count": null,
   "id": "f97f8df6",
   "metadata": {
    "execution": {
     "iopub.status.busy": "2025-01-25T10:59:31.944402Z",
     "iopub.status.idle": "2025-01-25T10:59:31.944716Z",
     "shell.execute_reply": "2025-01-25T10:59:31.944602Z"
    },
    "papermill": {
     "duration": null,
     "end_time": null,
     "exception": null,
     "start_time": null,
     "status": "pending"
    },
    "tags": []
   },
   "outputs": [],
   "source": [
    "model.save('budget_forecasting_lstm.h5')\n",
    "print(\"Model saved successfully.\")"
   ]
  },
  {
   "cell_type": "code",
   "execution_count": null,
   "id": "bdc65bbf",
   "metadata": {
    "papermill": {
     "duration": null,
     "end_time": null,
     "exception": null,
     "start_time": null,
     "status": "pending"
    },
    "tags": []
   },
   "outputs": [],
   "source": []
  },
  {
   "cell_type": "code",
   "execution_count": null,
   "id": "0883afdd",
   "metadata": {
    "papermill": {
     "duration": null,
     "end_time": null,
     "exception": null,
     "start_time": null,
     "status": "pending"
    },
    "tags": []
   },
   "outputs": [],
   "source": []
  },
  {
   "cell_type": "code",
   "execution_count": null,
   "id": "e8a8c305",
   "metadata": {
    "papermill": {
     "duration": null,
     "end_time": null,
     "exception": null,
     "start_time": null,
     "status": "pending"
    },
    "tags": []
   },
   "outputs": [],
   "source": []
  },
  {
   "cell_type": "code",
   "execution_count": null,
   "id": "d9f50e43",
   "metadata": {
    "papermill": {
     "duration": null,
     "end_time": null,
     "exception": null,
     "start_time": null,
     "status": "pending"
    },
    "tags": []
   },
   "outputs": [],
   "source": []
  },
  {
   "cell_type": "code",
   "execution_count": null,
   "id": "ef8e93ea",
   "metadata": {
    "papermill": {
     "duration": null,
     "end_time": null,
     "exception": null,
     "start_time": null,
     "status": "pending"
    },
    "tags": []
   },
   "outputs": [],
   "source": []
  },
  {
   "cell_type": "code",
   "execution_count": null,
   "id": "c7aee1e9",
   "metadata": {
    "papermill": {
     "duration": null,
     "end_time": null,
     "exception": null,
     "start_time": null,
     "status": "pending"
    },
    "tags": []
   },
   "outputs": [],
   "source": []
  }
 ],
 "metadata": {
  "kaggle": {
   "accelerator": "nvidiaTeslaT4",
   "dataSources": [
    {
     "datasetId": 6545286,
     "sourceId": 10576731,
     "sourceType": "datasetVersion"
    }
   ],
   "dockerImageVersionId": 30840,
   "isGpuEnabled": true,
   "isInternetEnabled": true,
   "language": "python",
   "sourceType": "notebook"
  },
  "kernelspec": {
   "display_name": "Python 3",
   "language": "python",
   "name": "python3"
  },
  "language_info": {
   "codemirror_mode": {
    "name": "ipython",
    "version": 3
   },
   "file_extension": ".py",
   "mimetype": "text/x-python",
   "name": "python",
   "nbconvert_exporter": "python",
   "pygments_lexer": "ipython3",
   "version": "3.10.12"
  },
  "papermill": {
   "default_parameters": {},
   "duration": 164.674319,
   "end_time": "2025-01-25T11:25:10.987516",
   "environment_variables": {},
   "exception": true,
   "input_path": "__notebook__.ipynb",
   "output_path": "__notebook__.ipynb",
   "parameters": {},
   "start_time": "2025-01-25T11:22:26.313197",
   "version": "2.6.0"
  }
 },
 "nbformat": 4,
 "nbformat_minor": 5
}
